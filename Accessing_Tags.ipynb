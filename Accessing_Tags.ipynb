{
  "cells": [
    {
      "cell_type": "code",
      "execution_count": null,
      "metadata": {
        "id": "g-efaHoNls4a"
      },
      "outputs": [],
      "source": [
        "import requests\n",
        "from bs4 import BeautifulSoup\n",
        "from fake_useragent import UserAgent"
      ]
    },
    {
      "cell_type": "code",
      "source": [
        "pip install fake_useragent"
      ],
      "metadata": {
        "colab": {
          "base_uri": "https://localhost:8080/"
        },
        "id": "j8AnuIp3mX-F",
        "outputId": "1d1ebd3b-1ade-4169-f56f-3d6ec05eeee1"
      },
      "execution_count": null,
      "outputs": [
        {
          "output_type": "stream",
          "name": "stdout",
          "text": [
            "Collecting fake_useragent\n",
            "  Downloading fake_useragent-1.2.1-py3-none-any.whl (14 kB)\n",
            "Installing collected packages: fake_useragent\n",
            "Successfully installed fake_useragent-1.2.1\n"
          ]
        }
      ]
    },
    {
      "cell_type": "code",
      "execution_count": null,
      "metadata": {
        "id": "rsbSvIvCls4d"
      },
      "outputs": [],
      "source": [
        "ua=UserAgent()\n",
        "header={'user-agent':ua.chrome}"
      ]
    },
    {
      "cell_type": "code",
      "execution_count": null,
      "metadata": {
        "id": "-inLKJlals4d"
      },
      "outputs": [],
      "source": [
        "quotes_page=requests.get(\"https://quotes.toscrape.com/\",headers=header)"
      ]
    },
    {
      "cell_type": "code",
      "execution_count": null,
      "metadata": {
        "id": "S3NbSpJxls4d"
      },
      "outputs": [],
      "source": [
        "soup=BeautifulSoup(quotes_page.content,'lxml')"
      ]
    },
    {
      "cell_type": "code",
      "execution_count": null,
      "metadata": {
        "colab": {
          "base_uri": "https://localhost:8080/"
        },
        "id": "ibYSft9lls4e",
        "outputId": "a60a5720-c6f7-403c-9540-0873d89f890f"
      },
      "outputs": [
        {
          "output_type": "execute_result",
          "data": {
            "text/plain": [
              "<title>Quotes to Scrape</title>"
            ]
          },
          "metadata": {},
          "execution_count": 8
        }
      ],
      "source": [
        "soup.title #Gets the first occurence of tag title"
      ]
    },
    {
      "cell_type": "code",
      "execution_count": null,
      "metadata": {
        "colab": {
          "base_uri": "https://localhost:8080/"
        },
        "id": "3vTbBWJFls4e",
        "outputId": "24b176ca-85f2-4c43-ed46-d1b45536ef39"
      },
      "outputs": [
        {
          "output_type": "stream",
          "name": "stdout",
          "text": [
            "<span class=\"text\" itemprop=\"text\">“The world as we have created it is a process of our thinking. It cannot be changed without changing our thinking.”</span>\n"
          ]
        }
      ],
      "source": [
        "span=soup.span #fist occurence of tag span\n",
        "print(span)"
      ]
    },
    {
      "cell_type": "code",
      "execution_count": null,
      "metadata": {
        "colab": {
          "base_uri": "https://localhost:8080/"
        },
        "id": "prnaUFL6ls4e",
        "outputId": "bcd1f8bd-915c-464d-d387-4a5ced49ba77"
      },
      "outputs": [
        {
          "output_type": "execute_result",
          "data": {
            "text/plain": [
              "['text']"
            ]
          },
          "metadata": {},
          "execution_count": 10
        }
      ],
      "source": [
        "span.get('class')#Getting the first class name in tag span"
      ]
    },
    {
      "cell_type": "code",
      "execution_count": null,
      "metadata": {
        "id": "lBTNHKP-ls4f"
      },
      "outputs": [],
      "source": [
        "div=soup.div"
      ]
    },
    {
      "cell_type": "code",
      "execution_count": null,
      "metadata": {
        "colab": {
          "base_uri": "https://localhost:8080/"
        },
        "id": "5cgjRL1lls4f",
        "outputId": "4fed2f31-3006-4423-8bc6-fbc163728058"
      },
      "outputs": [
        {
          "output_type": "execute_result",
          "data": {
            "text/plain": [
              "['container']"
            ]
          },
          "metadata": {},
          "execution_count": 12
        }
      ],
      "source": [
        "div.get('class')"
      ]
    },
    {
      "cell_type": "code",
      "execution_count": null,
      "metadata": {
        "colab": {
          "base_uri": "https://localhost:8080/"
        },
        "id": "jvjTM9aTls4f",
        "outputId": "e9b11f21-6eba-45ad-b140-171639b06e87"
      },
      "outputs": [
        {
          "output_type": "execute_result",
          "data": {
            "text/plain": [
              "['container']"
            ]
          },
          "metadata": {},
          "execution_count": 13
        }
      ],
      "source": [
        "div['class']"
      ]
    },
    {
      "cell_type": "code",
      "execution_count": null,
      "metadata": {
        "colab": {
          "base_uri": "https://localhost:8080/",
          "height": 35
        },
        "id": "L8t3Xjnzls4g",
        "outputId": "f4f9305b-5958-432e-d7f7-c4c6e3dfe56a"
      },
      "outputs": [
        {
          "output_type": "execute_result",
          "data": {
            "text/plain": [
              "'Quotes to Scrape'"
            ],
            "application/vnd.google.colaboratory.intrinsic+json": {
              "type": "string"
            }
          },
          "metadata": {},
          "execution_count": 14
        }
      ],
      "source": [
        "soup.title.string #Gets the value of first occurence of tag title"
      ]
    },
    {
      "cell_type": "code",
      "execution_count": null,
      "metadata": {
        "colab": {
          "base_uri": "https://localhost:8080/"
        },
        "id": "L4AhU2QWls4g",
        "outputId": "2696523b-6e0c-4311-b890-0282f31fd944"
      },
      "outputs": [
        {
          "output_type": "stream",
          "name": "stdout",
          "text": [
            "“The world as we have created it is a process of our thinking. It cannot be changed without changing our thinking.”\n"
          ]
        }
      ],
      "source": [
        "span=soup.span.string #value of fist occurence of tag span\n",
        "print(span)"
      ]
    },
    {
      "cell_type": "code",
      "execution_count": null,
      "metadata": {
        "colab": {
          "base_uri": "https://localhost:8080/"
        },
        "id": "Bp7K6USTls4g",
        "outputId": "76537a6b-4519-496a-9957-54f4ef20169f"
      },
      "outputs": [
        {
          "output_type": "stream",
          "name": "stdout",
          "text": [
            "Scraping the Quotes\n"
          ]
        }
      ],
      "source": [
        "#Replacing string names\n",
        "title=soup.title.string #Gets the value of first occurence of tag title\n",
        "title.replace_with(\"Scraping the Quotes\")\n",
        "print(title)"
      ]
    },
    {
      "cell_type": "code",
      "execution_count": null,
      "metadata": {
        "id": "my-qbEtDls4g"
      },
      "outputs": [],
      "source": []
    }
  ],
  "metadata": {
    "kernelspec": {
      "display_name": "Python 3",
      "language": "python",
      "name": "python3"
    },
    "language_info": {
      "codemirror_mode": {
        "name": "ipython",
        "version": 3
      },
      "file_extension": ".py",
      "mimetype": "text/x-python",
      "name": "python",
      "nbconvert_exporter": "python",
      "pygments_lexer": "ipython3",
      "version": "3.7.3"
    },
    "colab": {
      "provenance": []
    }
  },
  "nbformat": 4,
  "nbformat_minor": 0
}